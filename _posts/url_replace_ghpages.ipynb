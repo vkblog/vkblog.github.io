{
 "cells": [
  {
   "cell_type": "code",
   "execution_count": 4,
   "metadata": {
    "collapsed": false
   },
   "outputs": [
    {
     "name": "stdout",
     "output_type": "stream",
     "text": [
      "/Users/vboykis/vkblog.github.io/_posts\n"
     ]
    }
   ],
   "source": [
    "import re\n",
    "import os\n",
    "\n",
    "print os.getcwd()"
   ]
  },
  {
   "cell_type": "code",
   "execution_count": 5,
   "metadata": {
    "collapsed": false
   },
   "outputs": [],
   "source": [
    "old_url = 'http://raw.githubusercontent.com/veekaybee/wlb/gh-pages/assets/images'\n",
    "new_url = 'https://raw.githubusercontent.com/vkblog/vkblog.github.io/master/public/img/'\n",
    "\n",
    "for f in os.listdir(os.getcwd()):\n",
    "     if f.endswith(\".md\"):        \n",
    "        md_file_in = open(f, \"r\")\n",
    "        md_file_out = open(\"%s_o.md\"% f, \"w+\") \n",
    "        for line in md_file_in:\n",
    "            if old_url in line:\n",
    "                new_line = re.sub(old_url,new_url,line)\n",
    "                md_file_out.write(new_line)\n",
    "            else: md_file_out.write(line)\n",
    "    \n",
    "    \n",
    "    "
   ]
  },
  {
   "cell_type": "code",
   "execution_count": 6,
   "metadata": {
    "collapsed": true
   },
   "outputs": [],
   "source": [
    "suffix = \"_o.md\"\n",
    "\n",
    "for f in os.listdir(os.getcwd()): \n",
    "    if f.endswith(\"_o.md\"): \n",
    "        os.rename(f, f.replace(suffix,'',1))  \n"
   ]
  },
  {
   "cell_type": "code",
   "execution_count": null,
   "metadata": {
    "collapsed": true
   },
   "outputs": [],
   "source": []
  }
 ],
 "metadata": {
  "kernelspec": {
   "display_name": "Python 2",
   "language": "python",
   "name": "python2"
  },
  "language_info": {
   "codemirror_mode": {
    "name": "ipython",
    "version": 2
   },
   "file_extension": ".py",
   "mimetype": "text/x-python",
   "name": "python",
   "nbconvert_exporter": "python",
   "pygments_lexer": "ipython2",
   "version": "2.7.11"
  }
 },
 "nbformat": 4,
 "nbformat_minor": 0
}
